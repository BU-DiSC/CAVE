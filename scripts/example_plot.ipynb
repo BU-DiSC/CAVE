{
 "cells": [
  {
   "cell_type": "code",
   "execution_count": 1,
   "metadata": {},
   "outputs": [],
   "source": [
    "import matplotlib.pyplot as plt\n",
    "import numpy as np\n",
    "import pandas as pd\n",
    "import os\n",
    "import re"
   ]
  },
  {
   "cell_type": "code",
   "execution_count": 2,
   "metadata": {},
   "outputs": [],
   "source": [
    "def process_data(df, test_case):\n",
    "    # Cleaning data\n",
    "    df['time'] = df['time'].apply(lambda x: x*(10**-6))\n",
    "    df = df.drop(['res'], axis=1)\n",
    "\n",
    "    if test_case == 'cache':\n",
    "        df = df.groupby(['algo_name', 'cache_mb']).mean().reset_index()\n",
    "        df = df.groupby(['algo_name', 'cache_mb']).sum().reset_index()\n",
    "        time_arr = df['time'].to_numpy()\n",
    "        cache_size_arr = df['cache_mb'].to_numpy()\n",
    "        return time_arr, cache_size_arr\n",
    "    else:\n",
    "        df = df.groupby(['algo_name', 'thread']).mean().reset_index()\n",
    "        df = df.groupby(['algo_name', 'thread']).sum().reset_index()\n",
    "        time_arr = df['time'].to_numpy()\n",
    "        thread_arr = df['thread'].to_numpy()\n",
    "        return time_arr, thread_arr\n"
   ]
  },
  {
   "cell_type": "code",
   "execution_count": 3,
   "metadata": {},
   "outputs": [],
   "source": [
    "path = '../log/soc-LiveJournal1_bfs_cache.csv'\n"
   ]
  },
  {
   "cell_type": "code",
   "execution_count": 4,
   "metadata": {},
   "outputs": [],
   "source": [
    "dataset_name, algo_name, test_case = os.path.basename(path).split('.')[0].split('_')\n",
    "df = pd.read_csv(path)\n",
    "time_data, cache_data = process_data(df, test_case) "
   ]
  },
  {
   "cell_type": "code",
   "execution_count": null,
   "metadata": {},
   "outputs": [],
   "source": [
    "plt.xlabel('Cache Size (MB)')\n",
    "plt.ylabel('Time (s)')\n",
    "plt.title(f'Dataset {dataset_name}')\n",
    "\n",
    "plt.xticks(np.arange(1, len(cache_data)+1), cache_data)\n",
    "plt.plot(np.arange(1, len(cache_data)+1), time_data, marker='x', color='green', label=algo_name.upper())\n",
    "plt.legend()"
   ]
  },
  {
   "cell_type": "code",
   "execution_count": null,
   "metadata": {},
   "outputs": [],
   "source": [
    "path = '../log/soc-LiveJournal1_bfs_thread.csv'\n",
    "\n",
    "dataset_name, algo_name, test_case = os.path.basename(path).split('.')[0].split('_')\n",
    "df = pd.read_csv(path)\n",
    "time_data, thread_data = process_data(df, test_case)\n",
    "\n",
    "plt.xlabel('Thread Count')\n",
    "plt.ylabel('Time (s)')\n",
    "plt.title(f'Dataset {dataset_name}')\n",
    "\n",
    "plt.xticks(np.arange(1, len(thread_data)+1), thread_data)\n",
    "plt.plot(np.arange(1, len(thread_data)+1), time_data, marker='x', color='green', label=algo_name.upper())\n",
    "plt.legend()\n"
   ]
  }
 ],
 "metadata": {
  "kernelspec": {
   "display_name": "Python 3",
   "language": "python",
   "name": "python3"
  },
  "language_info": {
   "codemirror_mode": {
    "name": "ipython",
    "version": 3
   },
   "file_extension": ".py",
   "mimetype": "text/x-python",
   "name": "python",
   "nbconvert_exporter": "python",
   "pygments_lexer": "ipython3",
   "version": "3.10.11"
  }
 },
 "nbformat": 4,
 "nbformat_minor": 2
}
